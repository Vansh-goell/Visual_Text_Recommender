{
 "cells": [
  {
   "cell_type": "markdown",
   "metadata": {},
   "source": [
    "We are getting out noun and will use that . As we don't need what they are doinog "
   ]
  },
  {
   "cell_type": "code",
   "execution_count": 6,
   "metadata": {},
   "outputs": [],
   "source": [
    "from collections import defaultdict\n",
    "# \"\"\"\n",
    "#  Summary\n",
    "# Feature\tdict\tdefaultdict\n",
    "# Handles missing keys\t❌ No (gives error)\t✅ Yes (auto-creates default)\n",
    "# Needs key check\t✅ Yes\t❌ No\n",
    "# Cleaner code\t❌ Longer\t✅ Shorter\n",
    "# Use when\tYou want full control\tYou want convenience\n",
    "# \"\"\""
   ]
  },
  {
   "cell_type": "code",
   "execution_count": 4,
   "metadata": {},
   "outputs": [],
   "source": [
    "import nltk\n",
    "from nltk import word_tokenize, pos_tag\n",
    "\n"
   ]
  },
  {
   "cell_type": "code",
   "execution_count": 2,
   "metadata": {},
   "outputs": [
    {
     "name": "stderr",
     "output_type": "stream",
     "text": [
      "[nltk_data] Downloading package punkt to /Users/vanshgoel/nltk_data...\n",
      "[nltk_data]   Unzipping tokenizers/punkt.zip.\n",
      "[nltk_data] Downloading package averaged_perceptron_tagger to\n",
      "[nltk_data]     /Users/vanshgoel/nltk_data...\n",
      "[nltk_data]   Unzipping taggers/averaged_perceptron_tagger.zip.\n"
     ]
    },
    {
     "data": {
      "text/plain": [
       "True"
      ]
     },
     "execution_count": 2,
     "metadata": {},
     "output_type": "execute_result"
    }
   ],
   "source": [
    "nltk.download('punkt')  #provides: A pre-trained tokenizer model that knows how to break English sentences into words and punctuation.\n",
    "nltk.download('averaged_perceptron_tagger') # provides: A model that labels each word with its part-of-speech (noun, verb, adjective, etc.)"
   ]
  },
  {
   "cell_type": "code",
   "execution_count": null,
   "metadata": {},
   "outputs": [],
   "source": [
    "image_keywords = defaultdict(set)\n",
    "# Creates an empty defaultdict where each value is a set.\n",
    "# 💡 Why: We’ll store, for each image, the set of all nouns found in its captions.\n",
    "# ✨ Benefit: No need to check if the key exists before adding to it.\n",
    "\n",
    "for image , captions in image_captions.items()"
   ]
  }
 ],
 "metadata": {
  "kernelspec": {
   "display_name": "base",
   "language": "python",
   "name": "python3"
  },
  "language_info": {
   "codemirror_mode": {
    "name": "ipython",
    "version": 3
   },
   "file_extension": ".py",
   "mimetype": "text/x-python",
   "name": "python",
   "nbconvert_exporter": "python",
   "pygments_lexer": "ipython3",
   "version": "3.12.7"
  }
 },
 "nbformat": 4,
 "nbformat_minor": 2
}
