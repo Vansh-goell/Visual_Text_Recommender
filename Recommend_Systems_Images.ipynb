{
 "cells": [
  {
   "cell_type": "code",
   "execution_count": null,
   "metadata": {},
   "outputs": [],
   "source": [
    "import pandas\n",
    "import numpy\n",
    "import streamlit as st\n",
    "from PIL import Image\n",
    "from sklearn.metrics.pairwise import cosine_similarity\n",
    "import os"
   ]
  },
  {
   "cell_type": "code",
   "execution_count": 1,
   "metadata": {},
   "outputs": [],
   "source": [
    "#make a df for images"
   ]
  },
  {
   "cell_type": "code",
   "execution_count": null,
   "metadata": {},
   "outputs": [],
   "source": [
    "import os\n",
    "import pandas as pd\n",
    "\n",
    "# 1. Load your metadata CSV (preserves its original order)\n",
    "df_meta = pd.read_csv('fashion.csv', dtype={'ProductId': str})\n",
    "\n",
    "# 2. Build a lookup of image paths and folder labels\n",
    "image_records = []\n",
    "root_dir = 'data'\n",
    "\n",
    "for category in os.listdir(root_dir):\n",
    "    cat_path = os.path.join(root_dir, category)\n",
    "    if not os.path.isdir(cat_path):\n",
    "        continue\n",
    "\n",
    "    for gender in os.listdir(cat_path):\n",
    "        gen_dir = os.path.join(cat_path, gender)\n",
    "        if not os.path.isdir(gen_dir):\n",
    "            continue\n",
    "\n",
    "        # NEW: dive into the extra \"gen\" folder under each gender\n",
    "        for gen_folder in os.listdir(gen_dir):\n",
    "            gen_path = os.path.join(gen_dir, gen_folder)\n",
    "            if not os.path.isdir(gen_path):\n",
    "                continue\n",
    "\n",
    "            # now read image files inside this final folder\n",
    "            for fname in os.listdir(gen_path):\n",
    "                prod_id, ext = os.path.splitext(fname)\n",
    "                if ext.lower() in ('.jpg', '.jpeg', '.png'):\n",
    "                    image_records.append({\n",
    "                        'ProductId': prod_id,\n",
    "                        'ImagePath': os.path.join(gen_path, fname),\n",
    "                        'Category_from_folder': category,\n",
    "                        'Gender_from_folder': gender,\n",
    "                        'GenFolder': gen_folder\n",
    "                    })\n",
    "\n",
    "# 3. Create DataFrame of images\n",
    "df_images = pd.DataFrame(image_records, dtype={'ProductId': str})\n",
    "\n",
    "# 4. Merge metadata with image info (left join to preserve CSV order)\n",
    "df = df_meta.merge(df_images, on='ProductId', how='left')\n",
    "\n",
    "# 5. (Optional) Drop rows where no image was found\n",
    "# df = df.dropna(subset=['ImagePath'])\n",
    "\n",
    "# 6. Inspect\n",
    "print(df.head())\n",
    "print(f\"Total rows: {len(df)}, Images found: {df['ImagePath'].notna().sum()}\")\n"
   ]
  },
  {
   "cell_type": "code",
   "execution_count": null,
   "metadata": {},
   "outputs": [],
   "source": []
  }
 ],
 "metadata": {
  "kernelspec": {
   "display_name": "Python 3",
   "language": "python",
   "name": "python3"
  },
  "language_info": {
   "codemirror_mode": {
    "name": "ipython",
    "version": 3
   },
   "file_extension": ".py",
   "mimetype": "text/x-python",
   "name": "python",
   "nbconvert_exporter": "python",
   "pygments_lexer": "ipython3",
   "version": "3.12.10"
  }
 },
 "nbformat": 4,
 "nbformat_minor": 2
}
